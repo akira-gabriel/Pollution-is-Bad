{
 "cells": [
  {
   "cell_type": "code",
   "execution_count": 1,
   "id": "fb01f608",
   "metadata": {},
   "outputs": [],
   "source": [
    "import requests\n",
    "import os\n",
    "from dotenv import load_dotenv\n",
    "from pathlib import Path\n",
    "import psycopg2"
   ]
  },
  {
   "cell_type": "code",
   "execution_count": 6,
   "id": "e18db700",
   "metadata": {},
   "outputs": [],
   "source": [
    "def load_secrets():\n",
    "    load_dotenv()\n",
    "    env_path = Path(\".\") / \".env\"\n",
    "    load_dotenv(dotenv_path=env_path)\n",
    "\n",
    "    API_KEY = os.getenv(\"API_KEY\")\n",
    "    return API_KEY"
   ]
  },
  {
   "cell_type": "code",
   "execution_count": 7,
   "id": "a2689a66",
   "metadata": {},
   "outputs": [],
   "source": [
    "API_KEY = load_secrets()"
   ]
  },
  {
   "cell_type": "code",
   "execution_count": 9,
   "id": "b1bec5c1",
   "metadata": {},
   "outputs": [],
   "source": [
    "url = f\"https://airquality.googleapis.com/v1/currentConditions:lookup?key={API_KEY}\""
   ]
  },
  {
   "cell_type": "code",
   "execution_count": 10,
   "id": "24e16611",
   "metadata": {},
   "outputs": [],
   "source": [
    "TIMEZONE_BASE_URL = \"https://maps.googleapis.com/maps/api/timezone/json\""
   ]
  },
  {
   "cell_type": "code",
   "execution_count": 11,
   "id": "73a99076",
   "metadata": {},
   "outputs": [],
   "source": [
    "headers = {\"Content-Type\": \"application/json\"}"
   ]
  },
  {
   "cell_type": "code",
   "execution_count": 12,
   "id": "4ca6fb52",
   "metadata": {},
   "outputs": [],
   "source": [
    "CAPITAIS = {\n",
    "    \"Rio Branco\": (-9.97499, -67.8243),\n",
    "    \"Maceió\": (-9.66599, -35.735),\n",
    "    \"Macapá\": (0.0389, -51.0664),\n",
    "    \"Manaus\": (-3.11866, -60.0212),\n",
    "    \"Salvador\": (-12.9714, -38.5014),\n",
    "    \"Fortaleza\": (-3.73186, -38.5267),\n",
    "    \"Brasília\": (-15.7797, -47.9297),\n",
    "    \"Vitória\": (-20.3155, -40.3128),\n",
    "    \"Goiânia\": (-16.6786, -49.2539),\n",
    "    \"São Luís\": (-2.52972, -44.3028),\n",
    "    \"Cuiabá\": (-15.5989, -56.0949),\n",
    "    \"Campo Grande\": (-20.4428, -54.6464),\n",
    "    \"Belo Horizonte\": (-19.9167, -43.9345),\n",
    "    \"Belém\": (-1.45502, -48.5024),\n",
    "    \"João Pessoa\": (-7.115, -34.8631),\n",
    "    \"Curitiba\": (-25.4278, -49.2731),\n",
    "    \"Recife\": (-8.05, -34.9),\n",
    "    \"Teresina\": (-5.08921, -42.8016),\n",
    "    \"Rio de Janeiro\": (-22.9068, -43.1729),\n",
    "    \"Natal\": (-5.795, -35.2094),\n",
    "    \"Porto Alegre\": (-30.0331, -51.23),\n",
    "    \"Porto Velho\": (-8.76194, -63.9039),\n",
    "    \"Boa Vista\": (2.81972, -60.6733),\n",
    "    \"Florianópolis\": (-27.5969, -48.5495),\n",
    "    \"São Paulo\": (-23.5505, -46.6333),\n",
    "    \"Aracaju\": (-10.9111, -37.0717),\n",
    "    \"Palmas\": (-10.1675, -48.3277)\n",
    "}"
   ]
  },
  {
   "cell_type": "code",
   "execution_count": 21,
   "id": "eeea2e71",
   "metadata": {},
   "outputs": [],
   "source": [
    "capitais_dict = {}\n",
    "for capital, coords in CAPITAIS.items():\n",
    "    response = requests.post(url=url,\n",
    "                             json={\"location\": {\"latitude\": coords[0], \"longitude\": coords[1]}},\n",
    "                             headers=headers)\n",
    "    capitais_dict.update({capital : response.text})"
   ]
  },
  {
   "cell_type": "code",
   "execution_count": 22,
   "id": "f94d3765",
   "metadata": {},
   "outputs": [
    {
     "data": {
      "text/plain": [
       "{'Rio Branco': '{\\n  \"dateTime\": \"2025-09-18T15:00:00Z\",\\n  \"regionCode\": \"br\",\\n  \"indexes\": [\\n    {\\n      \"code\": \"uaqi\",\\n      \"displayName\": \"Universal AQI\",\\n      \"aqi\": 73,\\n      \"aqiDisplay\": \"73\",\\n      \"color\": {\\n        \"red\": 0.4627451,\\n        \"green\": 0.7921569,\\n        \"blue\": 0.2\\n      },\\n      \"category\": \"Good air quality\",\\n      \"dominantPollutant\": \"o3\"\\n    }\\n  ]\\n}\\n',\n",
       " 'Maceió': '{\\n  \"dateTime\": \"2025-09-18T15:00:00Z\",\\n  \"regionCode\": \"br\",\\n  \"indexes\": [\\n    {\\n      \"code\": \"uaqi\",\\n      \"displayName\": \"Universal AQI\",\\n      \"aqi\": 69,\\n      \"aqiDisplay\": \"69\",\\n      \"color\": {\\n        \"red\": 0.5411765,\\n        \"green\": 0.81960785,\\n        \"blue\": 0.1882353\\n      },\\n      \"category\": \"Good air quality\",\\n      \"dominantPollutant\": \"o3\"\\n    }\\n  ]\\n}\\n',\n",
       " 'Macapá': '{\\n  \"dateTime\": \"2025-09-18T15:00:00Z\",\\n  \"regionCode\": \"br\",\\n  \"indexes\": [\\n    {\\n      \"code\": \"uaqi\",\\n      \"displayName\": \"Universal AQI\",\\n      \"aqi\": 69,\\n      \"aqiDisplay\": \"69\",\\n      \"color\": {\\n        \"red\": 0.5411765,\\n        \"green\": 0.81960785,\\n        \"blue\": 0.1882353\\n      },\\n      \"category\": \"Good air quality\",\\n      \"dominantPollutant\": \"o3\"\\n    }\\n  ]\\n}\\n',\n",
       " 'Manaus': '{\\n  \"dateTime\": \"2025-09-18T15:00:00Z\",\\n  \"regionCode\": \"br\",\\n  \"indexes\": [\\n    {\\n      \"code\": \"uaqi\",\\n      \"displayName\": \"Universal AQI\",\\n      \"aqi\": 72,\\n      \"aqiDisplay\": \"72\",\\n      \"color\": {\\n        \"red\": 0.48235294,\\n        \"green\": 0.79607844,\\n        \"blue\": 0.2\\n      },\\n      \"category\": \"Good air quality\",\\n      \"dominantPollutant\": \"o3\"\\n    }\\n  ]\\n}\\n',\n",
       " 'Salvador': '{\\n  \"dateTime\": \"2025-09-18T15:00:00Z\",\\n  \"regionCode\": \"br\",\\n  \"indexes\": [\\n    {\\n      \"code\": \"uaqi\",\\n      \"displayName\": \"Universal AQI\",\\n      \"aqi\": 67,\\n      \"aqiDisplay\": \"67\",\\n      \"color\": {\\n        \"red\": 0.5882353,\\n        \"green\": 0.8392157,\\n        \"blue\": 0.16862746\\n      },\\n      \"category\": \"Good air quality\",\\n      \"dominantPollutant\": \"pm10\"\\n    }\\n  ]\\n}\\n',\n",
       " 'Fortaleza': '{\\n  \"dateTime\": \"2025-09-18T15:00:00Z\",\\n  \"regionCode\": \"br\",\\n  \"indexes\": [\\n    {\\n      \"code\": \"uaqi\",\\n      \"displayName\": \"Universal AQI\",\\n      \"aqi\": 65,\\n      \"aqiDisplay\": \"65\",\\n      \"color\": {\\n        \"red\": 0.63529414,\\n        \"green\": 0.85882354,\\n        \"blue\": 0.14901961\\n      },\\n      \"category\": \"Good air quality\",\\n      \"dominantPollutant\": \"o3\"\\n    }\\n  ]\\n}\\n',\n",
       " 'Brasília': '{\\n  \"dateTime\": \"2025-09-18T15:00:00Z\",\\n  \"regionCode\": \"br\",\\n  \"indexes\": [\\n    {\\n      \"code\": \"uaqi\",\\n      \"displayName\": \"Universal AQI\",\\n      \"aqi\": 35,\\n      \"aqiDisplay\": \"35\",\\n      \"color\": {\\n        \"red\": 1,\\n        \"green\": 0.65882355\\n      },\\n      \"category\": \"Low air quality\",\\n      \"dominantPollutant\": \"pm10\"\\n    }\\n  ]\\n}\\n',\n",
       " 'Vitória': '{\\n  \"dateTime\": \"2025-09-18T15:00:00Z\",\\n  \"regionCode\": \"br\",\\n  \"indexes\": [\\n    {\\n      \"code\": \"uaqi\",\\n      \"displayName\": \"Universal AQI\",\\n      \"aqi\": 80,\\n      \"aqiDisplay\": \"80\",\\n      \"color\": {\\n        \"red\": 0.34509805,\\n        \"green\": 0.74509805,\\n        \"blue\": 0.20784314\\n      },\\n      \"category\": \"Excellent air quality\",\\n      \"dominantPollutant\": \"pm10\"\\n    }\\n  ]\\n}\\n',\n",
       " 'Goiânia': '{\\n  \"dateTime\": \"2025-09-18T15:00:00Z\",\\n  \"regionCode\": \"br\",\\n  \"indexes\": [\\n    {\\n      \"code\": \"uaqi\",\\n      \"displayName\": \"Universal AQI\",\\n      \"aqi\": 44,\\n      \"aqiDisplay\": \"44\",\\n      \"color\": {\\n        \"red\": 1,\\n        \"green\": 0.8627451\\n      },\\n      \"category\": \"Moderate air quality\",\\n      \"dominantPollutant\": \"o3\"\\n    }\\n  ]\\n}\\n',\n",
       " 'São Luís': '{\\n  \"dateTime\": \"2025-09-18T15:00:00Z\",\\n  \"regionCode\": \"br\",\\n  \"indexes\": [\\n    {\\n      \"code\": \"uaqi\",\\n      \"displayName\": \"Universal AQI\",\\n      \"aqi\": 54,\\n      \"aqiDisplay\": \"54\",\\n      \"color\": {\\n        \"red\": 0.9019608,\\n        \"green\": 0.9607843,\\n        \"blue\": 0.039215688\\n      },\\n      \"category\": \"Moderate air quality\",\\n      \"dominantPollutant\": \"pm10\"\\n    }\\n  ]\\n}\\n',\n",
       " 'Cuiabá': '{\\n  \"dateTime\": \"2025-09-18T15:00:00Z\",\\n  \"regionCode\": \"br\",\\n  \"indexes\": [\\n    {\\n      \"code\": \"uaqi\",\\n      \"displayName\": \"Universal AQI\",\\n      \"aqi\": 49,\\n      \"aqiDisplay\": \"49\",\\n      \"color\": {\\n        \"red\": 1,\\n        \"green\": 0.9764706\\n      },\\n      \"category\": \"Moderate air quality\",\\n      \"dominantPollutant\": \"o3\"\\n    }\\n  ]\\n}\\n',\n",
       " 'Campo Grande': '{\\n  \"dateTime\": \"2025-09-18T15:00:00Z\",\\n  \"regionCode\": \"br\",\\n  \"indexes\": [\\n    {\\n      \"code\": \"uaqi\",\\n      \"displayName\": \"Universal AQI\",\\n      \"aqi\": 51,\\n      \"aqiDisplay\": \"51\",\\n      \"color\": {\\n        \"red\": 0.972549,\\n        \"green\": 0.9882353,\\n        \"blue\": 0.007843138\\n      },\\n      \"category\": \"Moderate air quality\",\\n      \"dominantPollutant\": \"o3\"\\n    }\\n  ]\\n}\\n',\n",
       " 'Belo Horizonte': '{\\n  \"dateTime\": \"2025-09-18T15:00:00Z\",\\n  \"regionCode\": \"br\",\\n  \"indexes\": [\\n    {\\n      \"code\": \"uaqi\",\\n      \"displayName\": \"Universal AQI\",\\n      \"aqi\": 45,\\n      \"aqiDisplay\": \"45\",\\n      \"color\": {\\n        \"red\": 1,\\n        \"green\": 0.8862745\\n      },\\n      \"category\": \"Moderate air quality\",\\n      \"dominantPollutant\": \"pm25\"\\n    }\\n  ]\\n}\\n',\n",
       " 'Belém': '{\\n  \"dateTime\": \"2025-09-18T15:00:00Z\",\\n  \"regionCode\": \"br\",\\n  \"indexes\": [\\n    {\\n      \"code\": \"uaqi\",\\n      \"displayName\": \"Universal AQI\",\\n      \"aqi\": 66,\\n      \"aqiDisplay\": \"66\",\\n      \"color\": {\\n        \"red\": 0.6117647,\\n        \"green\": 0.84705883,\\n        \"blue\": 0.15686275\\n      },\\n      \"category\": \"Good air quality\",\\n      \"dominantPollutant\": \"o3\"\\n    }\\n  ]\\n}\\n',\n",
       " 'João Pessoa': '{\\n  \"dateTime\": \"2025-09-18T15:00:00Z\",\\n  \"regionCode\": \"br\",\\n  \"indexes\": [\\n    {\\n      \"code\": \"uaqi\",\\n      \"displayName\": \"Universal AQI\",\\n      \"aqi\": 67,\\n      \"aqiDisplay\": \"67\",\\n      \"color\": {\\n        \"red\": 0.5882353,\\n        \"green\": 0.8392157,\\n        \"blue\": 0.16862746\\n      },\\n      \"category\": \"Good air quality\",\\n      \"dominantPollutant\": \"o3\"\\n    }\\n  ]\\n}\\n',\n",
       " 'Curitiba': '{\\n  \"dateTime\": \"2025-09-18T15:00:00Z\",\\n  \"regionCode\": \"br\",\\n  \"indexes\": [\\n    {\\n      \"code\": \"uaqi\",\\n      \"displayName\": \"Universal AQI\",\\n      \"aqi\": 69,\\n      \"aqiDisplay\": \"69\",\\n      \"color\": {\\n        \"red\": 0.5411765,\\n        \"green\": 0.81960785,\\n        \"blue\": 0.1882353\\n      },\\n      \"category\": \"Good air quality\",\\n      \"dominantPollutant\": \"o3\"\\n    }\\n  ]\\n}\\n',\n",
       " 'Recife': '{\\n  \"dateTime\": \"2025-09-18T15:00:00Z\",\\n  \"regionCode\": \"br\",\\n  \"indexes\": [\\n    {\\n      \"code\": \"uaqi\",\\n      \"displayName\": \"Universal AQI\",\\n      \"aqi\": 74,\\n      \"aqiDisplay\": \"74\",\\n      \"color\": {\\n        \"red\": 0.44705883,\\n        \"green\": 0.78431374,\\n        \"blue\": 0.2\\n      },\\n      \"category\": \"Good air quality\",\\n      \"dominantPollutant\": \"pm10\"\\n    }\\n  ]\\n}\\n',\n",
       " 'Teresina': '{\\n  \"dateTime\": \"2025-09-18T15:00:00Z\",\\n  \"regionCode\": \"br\",\\n  \"indexes\": [\\n    {\\n      \"code\": \"uaqi\",\\n      \"displayName\": \"Universal AQI\",\\n      \"aqi\": 61,\\n      \"aqiDisplay\": \"61\",\\n      \"color\": {\\n        \"red\": 0.73333335,\\n        \"green\": 0.89411765,\\n        \"blue\": 0.10980392\\n      },\\n      \"category\": \"Good air quality\",\\n      \"dominantPollutant\": \"o3\"\\n    }\\n  ]\\n}\\n',\n",
       " 'Rio de Janeiro': '{\\n  \"dateTime\": \"2025-09-18T15:00:00Z\",\\n  \"regionCode\": \"br\",\\n  \"indexes\": [\\n    {\\n      \"code\": \"uaqi\",\\n      \"displayName\": \"Universal AQI\",\\n      \"aqi\": 65,\\n      \"aqiDisplay\": \"65\",\\n      \"color\": {\\n        \"red\": 0.63529414,\\n        \"green\": 0.85882354,\\n        \"blue\": 0.14901961\\n      },\\n      \"category\": \"Good air quality\",\\n      \"dominantPollutant\": \"pm25\"\\n    }\\n  ]\\n}\\n',\n",
       " 'Natal': '{\\n  \"dateTime\": \"2025-09-18T15:00:00Z\",\\n  \"regionCode\": \"br\",\\n  \"indexes\": [\\n    {\\n      \"code\": \"uaqi\",\\n      \"displayName\": \"Universal AQI\",\\n      \"aqi\": 68,\\n      \"aqiDisplay\": \"68\",\\n      \"color\": {\\n        \"red\": 0.5647059,\\n        \"green\": 0.827451,\\n        \"blue\": 0.1764706\\n      },\\n      \"category\": \"Good air quality\",\\n      \"dominantPollutant\": \"o3\"\\n    }\\n  ]\\n}\\n',\n",
       " 'Porto Alegre': '{\\n  \"dateTime\": \"2025-09-18T15:00:00Z\",\\n  \"regionCode\": \"br\",\\n  \"indexes\": [\\n    {\\n      \"code\": \"uaqi\",\\n      \"displayName\": \"Universal AQI\",\\n      \"aqi\": 62,\\n      \"aqiDisplay\": \"62\",\\n      \"color\": {\\n        \"red\": 0.70980394,\\n        \"green\": 0.8862745,\\n        \"blue\": 0.11764706\\n      },\\n      \"category\": \"Good air quality\",\\n      \"dominantPollutant\": \"o3\"\\n    }\\n  ]\\n}\\n',\n",
       " 'Porto Velho': '{\\n  \"dateTime\": \"2025-09-18T15:00:00Z\",\\n  \"regionCode\": \"br\",\\n  \"indexes\": [\\n    {\\n      \"code\": \"uaqi\",\\n      \"displayName\": \"Universal AQI\",\\n      \"aqi\": 67,\\n      \"aqiDisplay\": \"67\",\\n      \"color\": {\\n        \"red\": 0.5882353,\\n        \"green\": 0.8392157,\\n        \"blue\": 0.16862746\\n      },\\n      \"category\": \"Good air quality\",\\n      \"dominantPollutant\": \"o3\"\\n    }\\n  ]\\n}\\n',\n",
       " 'Boa Vista': '{\\n  \"dateTime\": \"2025-09-18T15:00:00Z\",\\n  \"regionCode\": \"br\",\\n  \"indexes\": [\\n    {\\n      \"code\": \"uaqi\",\\n      \"displayName\": \"Universal AQI\",\\n      \"aqi\": 72,\\n      \"aqiDisplay\": \"72\",\\n      \"color\": {\\n        \"red\": 0.48235294,\\n        \"green\": 0.79607844,\\n        \"blue\": 0.2\\n      },\\n      \"category\": \"Good air quality\",\\n      \"dominantPollutant\": \"o3\"\\n    }\\n  ]\\n}\\n',\n",
       " 'Florianópolis': '{\\n  \"dateTime\": \"2025-09-18T15:00:00Z\",\\n  \"regionCode\": \"br\",\\n  \"indexes\": [\\n    {\\n      \"code\": \"uaqi\",\\n      \"displayName\": \"Universal AQI\",\\n      \"aqi\": 61,\\n      \"aqiDisplay\": \"61\",\\n      \"color\": {\\n        \"red\": 0.73333335,\\n        \"green\": 0.89411765,\\n        \"blue\": 0.10980392\\n      },\\n      \"category\": \"Good air quality\",\\n      \"dominantPollutant\": \"pm25\"\\n    }\\n  ]\\n}\\n',\n",
       " 'São Paulo': '{\\n  \"dateTime\": \"2025-09-18T15:00:00Z\",\\n  \"regionCode\": \"br\",\\n  \"indexes\": [\\n    {\\n      \"code\": \"uaqi\",\\n      \"displayName\": \"Universal AQI\",\\n      \"aqi\": 79,\\n      \"aqiDisplay\": \"79\",\\n      \"color\": {\\n        \"red\": 0.36078432,\\n        \"green\": 0.7529412,\\n        \"blue\": 0.20784314\\n      },\\n      \"category\": \"Good air quality\",\\n      \"dominantPollutant\": \"no2\"\\n    }\\n  ]\\n}\\n',\n",
       " 'Aracaju': '{\\n  \"dateTime\": \"2025-09-18T15:00:00Z\",\\n  \"regionCode\": \"br\",\\n  \"indexes\": [\\n    {\\n      \"code\": \"uaqi\",\\n      \"displayName\": \"Universal AQI\",\\n      \"aqi\": 71,\\n      \"aqiDisplay\": \"71\",\\n      \"color\": {\\n        \"red\": 0.49803922,\\n        \"green\": 0.8039216,\\n        \"blue\": 0.2\\n      },\\n      \"category\": \"Good air quality\",\\n      \"dominantPollutant\": \"o3\"\\n    }\\n  ]\\n}\\n',\n",
       " 'Palmas': '{\\n  \"dateTime\": \"2025-09-18T15:00:00Z\",\\n  \"regionCode\": \"br\",\\n  \"indexes\": [\\n    {\\n      \"code\": \"uaqi\",\\n      \"displayName\": \"Universal AQI\",\\n      \"aqi\": 56,\\n      \"aqiDisplay\": \"56\",\\n      \"color\": {\\n        \"red\": 0.85490197,\\n        \"green\": 0.9411765,\\n        \"blue\": 0.05882353\\n      },\\n      \"category\": \"Moderate air quality\",\\n      \"dominantPollutant\": \"o3\"\\n    }\\n  ]\\n}\\n'}"
      ]
     },
     "execution_count": 22,
     "metadata": {},
     "output_type": "execute_result"
    }
   ],
   "source": [
    "capitais_dict"
   ]
  },
  {
   "cell_type": "code",
   "execution_count": 14,
   "id": "4f483524",
   "metadata": {},
   "outputs": [
    {
     "data": {
      "text/plain": [
       "b'{\"location\": {\"latitude\": -10.1675, \"longitude\": -48.3277}}'"
      ]
     },
     "execution_count": 14,
     "metadata": {},
     "output_type": "execute_result"
    }
   ],
   "source": [
    "response.request.body"
   ]
  },
  {
   "cell_type": "code",
   "execution_count": 15,
   "id": "623b8059",
   "metadata": {},
   "outputs": [
    {
     "name": "stdout",
     "output_type": "stream",
     "text": [
      "200\n",
      "{\n",
      "  \"dateTime\": \"2025-09-18T15:00:00Z\",\n",
      "  \"regionCode\": \"br\",\n",
      "  \"indexes\": [\n",
      "    {\n",
      "      \"code\": \"uaqi\",\n",
      "      \"displayName\": \"Universal AQI\",\n",
      "      \"aqi\": 56,\n",
      "      \"aqiDisplay\": \"56\",\n",
      "      \"color\": {\n",
      "        \"red\": 0.85490197,\n",
      "        \"green\": 0.9411765,\n",
      "        \"blue\": 0.05882353\n",
      "      },\n",
      "      \"category\": \"Moderate air quality\",\n",
      "      \"dominantPollutant\": \"o3\"\n",
      "    }\n",
      "  ]\n",
      "}\n",
      "\n"
     ]
    }
   ],
   "source": [
    "print(response.status_code)\n",
    "print(response.text)"
   ]
  },
  {
   "cell_type": "code",
   "execution_count": 18,
   "id": "0e46e803",
   "metadata": {},
   "outputs": [
    {
     "data": {
      "text/plain": [
       "'{\\n  \"dateTime\": \"2025-09-18T15:00:00Z\",\\n  \"regionCode\": \"br\",\\n  \"indexes\": [\\n    {\\n      \"code\": \"uaqi\",\\n      \"displayName\": \"Universal AQI\",\\n      \"aqi\": 56,\\n      \"aqiDisplay\": \"56\",\\n      \"color\": {\\n        \"red\": 0.85490197,\\n        \"green\": 0.9411765,\\n        \"blue\": 0.05882353\\n      },\\n      \"category\": \"Moderate air quality\",\\n      \"dominantPollutant\": \"o3\"\\n    }\\n  ]\\n}\\n'"
      ]
     },
     "execution_count": 18,
     "metadata": {},
     "output_type": "execute_result"
    }
   ],
   "source": [
    "response.text"
   ]
  },
  {
   "cell_type": "code",
   "execution_count": null,
   "id": "a4696541",
   "metadata": {},
   "outputs": [],
   "source": [
    "# def preprocess_air_quality():\n",
    "#     conn = psycopg2.connect(\n",
    "#         host='Localhost',\n",
    "#         dbname=\"meubanco\",\n",
    "#     )"
   ]
  }
 ],
 "metadata": {
  "kernelspec": {
   "display_name": "pollution_is_bad",
   "language": "python",
   "name": "python3"
  },
  "language_info": {
   "codemirror_mode": {
    "name": "ipython",
    "version": 3
   },
   "file_extension": ".py",
   "mimetype": "text/x-python",
   "name": "python",
   "nbconvert_exporter": "python",
   "pygments_lexer": "ipython3",
   "version": "3.13.7"
  }
 },
 "nbformat": 4,
 "nbformat_minor": 5
}
