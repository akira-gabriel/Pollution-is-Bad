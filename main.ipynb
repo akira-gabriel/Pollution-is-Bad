{
 "cells": [
  {
   "cell_type": "code",
   "execution_count": 1,
   "id": "fb01f608",
   "metadata": {},
   "outputs": [],
   "source": [
    "import requests\n",
    "import os\n",
    "from dotenv import load_dotenv\n",
    "from pathlib import Path\n",
    "import json\n",
    "import pandas as pd\n",
    "# import psycopg2"
   ]
  },
  {
   "cell_type": "code",
   "execution_count": 2,
   "id": "e18db700",
   "metadata": {},
   "outputs": [],
   "source": [
    "def load_secrets():\n",
    "    load_dotenv()\n",
    "    env_path = Path(\".\") / \".env\"\n",
    "    load_dotenv(dotenv_path=env_path)\n",
    "\n",
    "    API_KEY = os.getenv(\"API_KEY\")\n",
    "    return API_KEY"
   ]
  },
  {
   "cell_type": "code",
   "execution_count": 3,
   "id": "a2689a66",
   "metadata": {},
   "outputs": [],
   "source": [
    "API_KEY = load_secrets()"
   ]
  },
  {
   "cell_type": "code",
   "execution_count": 4,
   "id": "b1bec5c1",
   "metadata": {},
   "outputs": [],
   "source": [
    "url_recent = f\"https://airquality.googleapis.com/v1/currentConditions:lookup?key={API_KEY}\""
   ]
  },
  {
   "cell_type": "code",
   "execution_count": 5,
   "id": "73a99076",
   "metadata": {},
   "outputs": [],
   "source": [
    "headers = {\"Content-Type\": \"application/json\"}"
   ]
  },
  {
   "cell_type": "code",
   "execution_count": 6,
   "id": "4ca6fb52",
   "metadata": {},
   "outputs": [],
   "source": [
    "CAPITALS = {\n",
    "    \"Rio Branco\": (-9.97499, -67.8243),\n",
    "    \"Maceió\": (-9.66599, -35.735),\n",
    "    \"Macapá\": (0.0389, -51.0664),\n",
    "    \"Manaus\": (-3.11866, -60.0212),\n",
    "    \"Salvador\": (-12.9714, -38.5014),\n",
    "    \"Fortaleza\": (-3.73186, -38.5267),\n",
    "    \"Brasília\": (-15.7797, -47.9297),\n",
    "    \"Vitória\": (-20.3155, -40.3128),\n",
    "    \"Goiânia\": (-16.6786, -49.2539),\n",
    "    \"São Luís\": (-2.52972, -44.3028),\n",
    "    \"Cuiabá\": (-15.5989, -56.0949),\n",
    "    \"Campo Grande\": (-20.4428, -54.6464),\n",
    "    \"Belo Horizonte\": (-19.9167, -43.9345),\n",
    "    \"Belém\": (-1.45502, -48.5024),\n",
    "    \"João Pessoa\": (-7.115, -34.8631),\n",
    "    \"Curitiba\": (-25.4278, -49.2731),\n",
    "    \"Recife\": (-8.05, -34.9),\n",
    "    \"Teresina\": (-5.08921, -42.8016),\n",
    "    \"Rio de Janeiro\": (-22.9068, -43.1729),\n",
    "    \"Natal\": (-5.795, -35.2094),\n",
    "    \"Porto Alegre\": (-30.0331, -51.23),\n",
    "    \"Porto Velho\": (-8.76194, -63.9039),\n",
    "    \"Boa Vista\": (2.81972, -60.6733),\n",
    "    \"Florianópolis\": (-27.5969, -48.5495),\n",
    "    \"São Paulo\": (-23.5505, -46.6333),\n",
    "    \"Aracaju\": (-10.9111, -37.0717),\n",
    "    \"Palmas\": (-10.1675, -48.3277)\n",
    "}"
   ]
  },
  {
   "cell_type": "code",
   "execution_count": 7,
   "id": "3c18b520",
   "metadata": {},
   "outputs": [],
   "source": [
    "df = pd.DataFrame()"
   ]
  },
  {
   "cell_type": "code",
   "execution_count": 8,
   "id": "eeea2e71",
   "metadata": {},
   "outputs": [],
   "source": [
    "capitals_dict = {}\n",
    "for capital, coords in CAPITALS.items():\n",
    "    response = requests.post(url=url_recent,\n",
    "                             json={\"location\": {\n",
    "                                 \"latitude\": coords[0], \n",
    "                                 \"longitude\": coords[1]\n",
    "                                 }\n",
    "                            },\n",
    "                             headers=headers)\n",
    "    capitals_dict.update({capital : response.text})"
   ]
  },
  {
   "cell_type": "code",
   "execution_count": 9,
   "id": "0b65b28d",
   "metadata": {},
   "outputs": [
    {
     "name": "stdout",
     "output_type": "stream",
     "text": [
      "{\n",
      "  \"dateTime\": \"2025-09-25T21:00:00Z\",\n",
      "  \"regionCode\": \"br\",\n",
      "  \"indexes\": [\n",
      "    {\n",
      "      \"code\": \"uaqi\",\n",
      "      \"displayName\": \"Universal AQI\",\n",
      "      \"aqi\": 63,\n",
      "      \"aqiDisplay\": \"63\",\n",
      "      \"color\": {\n",
      "        \"red\": 0.6862745,\n",
      "        \"green\": 0.8745098,\n",
      "        \"blue\": 0.12941177\n",
      "      },\n",
      "      \"category\": \"Good air quality\",\n",
      "      \"dominantPollutant\": \"pm25\"\n",
      "    }\n",
      "  ]\n",
      "}\n",
      "\n"
     ]
    }
   ],
   "source": [
    "print(response.text)"
   ]
  },
  {
   "cell_type": "code",
   "execution_count": 10,
   "id": "3d920754",
   "metadata": {},
   "outputs": [
    {
     "data": {
      "text/plain": [
       "{'dateTime': '2025-09-25T21:00:00Z',\n",
       " 'regionCode': 'br',\n",
       " 'indexes': [{'code': 'uaqi',\n",
       "   'displayName': 'Universal AQI',\n",
       "   'aqi': 63,\n",
       "   'aqiDisplay': '63',\n",
       "   'color': {'red': 0.6862745, 'green': 0.8745098, 'blue': 0.12941177},\n",
       "   'category': 'Good air quality',\n",
       "   'dominantPollutant': 'pm25'}]}"
      ]
     },
     "execution_count": 10,
     "metadata": {},
     "output_type": "execute_result"
    }
   ],
   "source": [
    "rows = []\n",
    "for city, data_json in capitals_dict.items():\n",
    "    city_data = json.loads(data_json)\n",
    "    idx = city_data.get('indexes')[0]\n",
    "    rows.append({\n",
    "        \"City\": city,\n",
    "        \"Date/Time\": city_data.get(\"dateTime\"),\n",
    "        \"Local\" : city_data.get(\"regionCode\"),\n",
    "        \"AQI\": idx[\"aqi\"],\n",
    "        \"Red\": idx.get(\"color\",{}).get(\"red\"),\n",
    "        \"Green\": idx.get(\"color\",{}).get(\"green\"),\n",
    "        \"Blue\": idx.get(\"color\",{}).get(\"blue\"),\n",
    "        \"Label\": idx.get(\"category\"),\n",
    "        \"Dominant Pollutant\": idx.get(\"dominantPollutant\")\n",
    "    })\n",
    "city_data"
   ]
  },
  {
   "cell_type": "code",
   "execution_count": 11,
   "id": "1b1511c5",
   "metadata": {},
   "outputs": [],
   "source": [
    "df = pd.concat([df, pd.DataFrame(rows)], ignore_index=True)"
   ]
  },
  {
   "cell_type": "code",
   "execution_count": 12,
   "id": "b7af687a",
   "metadata": {},
   "outputs": [],
   "source": [
    "url_history = f\"https://airquality.googleapis.com/v1/history:lookup?key={API_KEY}\"\n",
    "\n",
    "capitals_dict_history = {}\n",
    "for capital, coords in CAPITALS.items():\n",
    "    response = requests.post(url=url_history,\n",
    "                             json={\n",
    "                                 \"dateTime\": \"2025-09-21T15:01:23Z\",\n",
    "                                 \"location\": {\n",
    "                                     \"latitude\": coords[0],\n",
    "                                     \"longitude\": coords[1]\n",
    "                                 },\n",
    "                            },\n",
    "                             headers=headers)\n",
    "    capitals_dict_history.update({capital: response.text})"
   ]
  },
  {
   "cell_type": "code",
   "execution_count": 13,
   "id": "ee1196d8",
   "metadata": {},
   "outputs": [],
   "source": [
    "rows_history = []\n",
    "for city, data_json in capitals_dict_history.items():\n",
    "    capitals_dict_history = json.loads(data_json)\n",
    "\n",
    "    idx = capitals_dict_history.get(\"hoursInfo\")[0].get(\"indexes\")[0]\n",
    "\n",
    "    rows_history.append({\n",
    "        \"City\": city,\n",
    "        \"Date/Time\": capitals_dict_history.get(\"hoursInfo\")[0].get(\"dateTime\"),\n",
    "        \"Local\" : capitals_dict_history.get(\"regionCode\"),\n",
    "        \"AQI\": idx.get(\"aqi\"),\n",
    "        \"Red\": idx.get(\"color\",{}).get(\"red\"),\n",
    "        \"Green\": idx.get(\"color\",{}).get(\"green\"),\n",
    "        \"Blue\": idx.get(\"color\",{}).get(\"blue\"),\n",
    "        \"Label\": idx.get(\"category\"),\n",
    "        \"Dominant Pollutant\": idx.get(\"dominantPollutant\")\n",
    "    })"
   ]
  },
  {
   "cell_type": "code",
   "execution_count": 14,
   "id": "73509881",
   "metadata": {},
   "outputs": [],
   "source": [
    "pd.set_option(\"display.max_rows\", None)\n",
    "df = pd.concat([df, pd.DataFrame(rows_history)], ignore_index=True)\n",
    "df = df.drop(columns=['Red', 'Green', 'Blue'], axis=1).sort_values(by=\"City\")"
   ]
  },
  {
   "cell_type": "code",
   "execution_count": null,
   "id": "650c0381",
   "metadata": {},
   "outputs": [],
   "source": [
    "order = ['City','AQI','Label','Dominant Pollutant','Local','Date/Time']\n",
    "df = df[order]\n",
    "df"
   ]
  },
  {
   "cell_type": "code",
   "execution_count": 19,
   "id": "a4696541",
   "metadata": {},
   "outputs": [],
   "source": [
    "# def preprocess_air_quality():\n",
    "#     conn = psycopg2.connect(\n",
    "#         host='Localhost',\n",
    "#         dbname=\"meubanco\",\n",
    "#     )sdavadv"
   ]
  }
 ],
 "metadata": {
  "kernelspec": {
   "display_name": "pollution_is_bad",
   "language": "python",
   "name": "python3"
  },
  "language_info": {
   "codemirror_mode": {
    "name": "ipython",
    "version": 3
   },
   "file_extension": ".py",
   "mimetype": "text/x-python",
   "name": "python",
   "nbconvert_exporter": "python",
   "pygments_lexer": "ipython3",
   "version": "3.13.7"
  }
 },
 "nbformat": 4,
 "nbformat_minor": 5
}
